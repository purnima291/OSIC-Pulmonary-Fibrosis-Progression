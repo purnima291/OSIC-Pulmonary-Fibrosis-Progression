{
 "cells": [
  {
   "cell_type": "markdown",
   "metadata": {
    "papermill": {
     "duration": 0.029454,
     "end_time": "2021-01-15T12:54:58.380612",
     "exception": false,
     "start_time": "2021-01-15T12:54:58.351158",
     "status": "completed"
    },
    "tags": []
   },
   "source": [
    "# 1. Introduction\n",
    "\n",
    "OSIC is a co-operative effort between academia, industry and philanthropy designed to enable rapid advances in the fight against Idiopathic Pulmonary Fibrosis (IPF), fibrosing interstitial lung diseases (ILDs) and other respiratory diseases, including emphysematous conditions. Hence,OSIC hosted a challenge on kaggle platform to predict a patient’s severity of decline in lung function based on a CT(Computerised Tomography) scan of their lungs and metadata of the patients.\n",
    "\n",
    "# 2. HealthCare Sector Objective\n",
    "Given image, metadata, and baseline FVC as input, our task is to predict prognosis of Pulmunory Fibrosis i.e the final three FVC measurements for each patient, as well as a confidence value in our prediction. <br>\n",
    "There is no strict latency constraint and correct confidence of pediction is important. \n",
    "\n",
    "# 3. Performance Metrics\n",
    "Evaluation is done on modified version of the Laplace Log Likelihood. In medical applications, it is useful to evaluate a model's confidence in its decisions. Accordingly, the metric is designed to reflect both the accuracy and certainty of each prediction.\n",
    "<br>\n",
    "For each true FVC measurement, you will predict both an FVC and a confidence measure (standard deviation σ). The metric is computed as:<br>\n",
    "$$\\begin{eqnarray} \\\\\n",
    "\\sigma_{clipped}=max(\\sigma,70)\\\\\n",
    "\\nabla=min(|FVC_{true}−FVC_{predicted}|,1000)\\\\\n",
    "metric=-\\frac{\\sqrt{2}\\nabla}{\\sigma_{clipped}}- \\ln(\\sqrt{2}\\sigma_{clipped})\\\\\n",
    "\\end{eqnarray}$$"
   ]
  },
  {
   "cell_type": "markdown",
   "metadata": {
    "papermill": {
     "duration": 0.027754,
     "end_time": "2021-01-15T12:54:58.436888",
     "exception": false,
     "start_time": "2021-01-15T12:54:58.409134",
     "status": "completed"
    },
    "tags": []
   },
   "source": [
    "# 4. Data Overview\n",
    "**Three csv files and two folders are provided:**\n",
    "\n",
    "* train.csv - the training set, contains full history of clinical information\n",
    "* test.csv - the test set, contains only the baseline measurement\n",
    "* train/ - contains the training patients' baseline CT scan in DICOM format\n",
    "* test/ - contains the test patients' baseline CT scan in DICOM format\n",
    "* sample_submission.csv - demonstrates the submission format\n",
    "\n",
    "**Attributes in train.csv and test.csv:**\n",
    "\n",
    "* *Patient*- a unique Id for each patient (also the name of the patient's DICOM folder)\n",
    "* *Weeks*- the relative number of weeks pre/post the baseline CT (may be negative)\n",
    "* *FVC* - the recorded lung capacity in ml\n",
    "* *Percent*- a computed field which approximates the patient's FVC as a percent of the typical FVC for a person of similar characteristics\n",
    "* *Age*- patient's age\n",
    "* *Sex*- patient's gender\n",
    "* *SmokingStatus*- whether a patient somkes or not.\n",
    "\n",
    "**Attributes in sample submission.csv**\n",
    "* *Patient_Week* - a unique Id formed by concatenating the Patient and Weeks columns (i.e. ABC_22 is a prediction for patient ABC at week 22)\n",
    "* *FVC* - the predicted FVC in ml\n",
    "* *Confidence* - a confidence value of your prediction (also has units of ml)\n",
    "\n",
    "**Info About FVC**:\n",
    "Lung function is assessed based on output from a spirometer, which measures the forced vital capacity (FVC), i.e. the volume of air exhaled. FVC can also help doctors assess the progression of lung disease and evaluate the effectiveness of treatment. <br>\n",
    "\n",
    "A person who is diagnosed with obstructive lung diseases such as asthma and chronic obstructive pulmonary disease (COPD) has a lower FVC result than a healthy person.Decreases in the FVC value may mean the lung disease is getting worse.\n",
    "\n",
    "* Average normal values in healthy males aged 20-60 range from 5500 to 4750 mililiters.\n",
    "* Average normal values for females aged 20-60 range from 3750 to 3250 mililiters.\n",
    "* Percent- a computed field which approximates the patient's FVC as a percent of the typical FVC for a person of similar characteristics. Percentage with normal test values falling between 80% and 120% of the average values.\n",
    "\n",
    "<br>Refernce : https://www.nuvoair.com/blog/do-you-know-how-to-interpret-the-results-of-your-spirometry-test\n",
    "\n",
    "## Some useful resources:\n",
    "https://www.kaggle.com/andradaolteanu/pulmonary-fibrosis-competition-eda-dicom-prep <br>\n",
    "https://www.kaggle.com/pradyut23/pulmonary-fibrosis-eda/notebook <br>\n",
    "https://www.kaggle.com/writetoneeraj/fundamentals-of-medical-image-processing"
   ]
  },
  {
   "cell_type": "markdown",
   "metadata": {
    "papermill": {
     "duration": 0.027988,
     "end_time": "2021-01-15T12:54:58.492553",
     "exception": false,
     "start_time": "2021-01-15T12:54:58.464565",
     "status": "completed"
    },
    "tags": []
   },
   "source": [
    "# 5.Exploratory Data Analysis\n",
    "## 5.1. Analysis of metadata\n"
   ]
  },
  {
   "cell_type": "code",
   "execution_count": 1,
   "metadata": {
    "execution": {
     "iopub.execute_input": "2021-01-15T12:54:58.552341Z",
     "iopub.status.busy": "2021-01-15T12:54:58.551602Z",
     "iopub.status.idle": "2021-01-15T12:55:01.206811Z",
     "shell.execute_reply": "2021-01-15T12:55:01.205565Z"
    },
    "papermill": {
     "duration": 2.686415,
     "end_time": "2021-01-15T12:55:01.206961",
     "exception": false,
     "start_time": "2021-01-15T12:54:58.520546",
     "status": "completed"
    },
    "tags": []
   },
   "outputs": [],
   "source": [
    "# importing libraries\n",
    "import pandas as pd\n",
    "import numpy as np\n",
    "import seaborn as sn\n",
    "import matplotlib.pyplot as plt\n",
    "import pydicom\n",
    "import os\n",
    "import cv2\n",
    "from sklearn.cluster import KMeans\n",
    "from skimage import measure, morphology"
   ]
  },
  {
   "cell_type": "code",
   "execution_count": 2,
   "metadata": {
    "execution": {
     "iopub.execute_input": "2021-01-15T12:55:01.270618Z",
     "iopub.status.busy": "2021-01-15T12:55:01.269907Z",
     "iopub.status.idle": "2021-01-15T12:55:01.302055Z",
     "shell.execute_reply": "2021-01-15T12:55:01.301372Z"
    },
    "papermill": {
     "duration": 0.06723,
     "end_time": "2021-01-15T12:55:01.302173",
     "exception": false,
     "start_time": "2021-01-15T12:55:01.234943",
     "status": "completed"
    },
    "tags": []
   },
   "outputs": [
    {
     "name": "stdout",
     "output_type": "stream",
     "text": [
      "Train Data Shape: (1549, 7)\n",
      "                     Patient  Weeks   FVC    Percent  Age   Sex SmokingStatus\n",
      "0  ID00007637202177411956430     -4  2315  58.253649   79  Male     Ex-smoker\n",
      "1  ID00007637202177411956430      5  2214  55.712129   79  Male     Ex-smoker\n",
      "2  ID00007637202177411956430      7  2061  51.862104   79  Male     Ex-smoker\n",
      "3  ID00007637202177411956430      9  2144  53.950679   79  Male     Ex-smoker\n",
      "4  ID00007637202177411956430     11  2069  52.063412   79  Male     Ex-smoker\n"
     ]
    }
   ],
   "source": [
    "train=pd.read_csv('/kaggle/input/osic-pulmonary-fibrosis-progression/train.csv')\n",
    "print('Train Data Shape:', train.shape)\n",
    "print(train.head())"
   ]
  },
  {
   "cell_type": "code",
   "execution_count": 3,
   "metadata": {
    "execution": {
     "iopub.execute_input": "2021-01-15T12:55:01.366415Z",
     "iopub.status.busy": "2021-01-15T12:55:01.365730Z",
     "iopub.status.idle": "2021-01-15T12:55:01.384196Z",
     "shell.execute_reply": "2021-01-15T12:55:01.383109Z"
    },
    "papermill": {
     "duration": 0.053442,
     "end_time": "2021-01-15T12:55:01.384398",
     "exception": false,
     "start_time": "2021-01-15T12:55:01.330956",
     "status": "completed"
    },
    "tags": []
   },
   "outputs": [
    {
     "name": "stdout",
     "output_type": "stream",
     "text": [
      "Test Data Shape: (5, 7)\n",
      "                     Patient  Weeks   FVC    Percent  Age   Sex SmokingStatus\n",
      "0  ID00419637202311204720264      6  3020  70.186855   73  Male     Ex-smoker\n",
      "1  ID00421637202311550012437     15  2739  82.045291   68  Male     Ex-smoker\n",
      "2  ID00422637202311677017371      6  1930  76.672493   73  Male     Ex-smoker\n",
      "3  ID00423637202312137826377     17  3294  79.258903   72  Male     Ex-smoker\n",
      "4  ID00426637202313170790466      0  2925  71.824968   73  Male  Never smoked\n"
     ]
    }
   ],
   "source": [
    "test=pd.read_csv('/kaggle/input/osic-pulmonary-fibrosis-progression/test.csv')\n",
    "print('Test Data Shape:', test.shape)\n",
    "print(test.head())"
   ]
  },
  {
   "cell_type": "code",
   "execution_count": 4,
   "metadata": {
    "execution": {
     "iopub.execute_input": "2021-01-15T12:55:01.458999Z",
     "iopub.status.busy": "2021-01-15T12:55:01.457849Z",
     "iopub.status.idle": "2021-01-15T12:55:01.476739Z",
     "shell.execute_reply": "2021-01-15T12:55:01.475776Z"
    },
    "papermill": {
     "duration": 0.063479,
     "end_time": "2021-01-15T12:55:01.476921",
     "exception": false,
     "start_time": "2021-01-15T12:55:01.413442",
     "status": "completed"
    },
    "tags": []
   },
   "outputs": [
    {
     "name": "stdout",
     "output_type": "stream",
     "text": [
      "Submission File Shape (730, 3)\n",
      "                    Patient_Week   FVC  Confidence\n",
      "0  ID00419637202311204720264_-12  2000         100\n",
      "1  ID00421637202311550012437_-12  2000         100\n",
      "2  ID00422637202311677017371_-12  2000         100\n",
      "3  ID00423637202312137826377_-12  2000         100\n",
      "4  ID00426637202313170790466_-12  2000         100\n"
     ]
    }
   ],
   "source": [
    "sub=pd.read_csv('/kaggle/input/osic-pulmonary-fibrosis-progression/sample_submission.csv')\n",
    "print('Submission File Shape', sub.shape)\n",
    "print(sub.head())"
   ]
  },
  {
   "cell_type": "code",
   "execution_count": 5,
   "metadata": {
    "execution": {
     "iopub.execute_input": "2021-01-15T12:55:01.563230Z",
     "iopub.status.busy": "2021-01-15T12:55:01.562167Z",
     "iopub.status.idle": "2021-01-15T12:55:01.602755Z",
     "shell.execute_reply": "2021-01-15T12:55:01.602113Z"
    },
    "papermill": {
     "duration": 0.08694,
     "end_time": "2021-01-15T12:55:01.602873",
     "exception": false,
     "start_time": "2021-01-15T12:55:01.515933",
     "status": "completed"
    },
    "tags": []
   },
   "outputs": [
    {
     "data": {
      "text/html": [
       "<div>\n",
       "<style scoped>\n",
       "    .dataframe tbody tr th:only-of-type {\n",
       "        vertical-align: middle;\n",
       "    }\n",
       "\n",
       "    .dataframe tbody tr th {\n",
       "        vertical-align: top;\n",
       "    }\n",
       "\n",
       "    .dataframe thead th {\n",
       "        text-align: right;\n",
       "    }\n",
       "</style>\n",
       "<table border=\"1\" class=\"dataframe\">\n",
       "  <thead>\n",
       "    <tr style=\"text-align: right;\">\n",
       "      <th></th>\n",
       "      <th>Weeks</th>\n",
       "      <th>FVC</th>\n",
       "      <th>Percent</th>\n",
       "      <th>Age</th>\n",
       "    </tr>\n",
       "  </thead>\n",
       "  <tbody>\n",
       "    <tr>\n",
       "      <th>count</th>\n",
       "      <td>1549.000000</td>\n",
       "      <td>1549.000000</td>\n",
       "      <td>1549.000000</td>\n",
       "      <td>1549.000000</td>\n",
       "    </tr>\n",
       "    <tr>\n",
       "      <th>mean</th>\n",
       "      <td>31.861846</td>\n",
       "      <td>2690.479019</td>\n",
       "      <td>77.672654</td>\n",
       "      <td>67.188509</td>\n",
       "    </tr>\n",
       "    <tr>\n",
       "      <th>std</th>\n",
       "      <td>23.247550</td>\n",
       "      <td>832.770959</td>\n",
       "      <td>19.823261</td>\n",
       "      <td>7.057395</td>\n",
       "    </tr>\n",
       "    <tr>\n",
       "      <th>min</th>\n",
       "      <td>-5.000000</td>\n",
       "      <td>827.000000</td>\n",
       "      <td>28.877577</td>\n",
       "      <td>49.000000</td>\n",
       "    </tr>\n",
       "    <tr>\n",
       "      <th>25%</th>\n",
       "      <td>12.000000</td>\n",
       "      <td>2109.000000</td>\n",
       "      <td>62.832700</td>\n",
       "      <td>63.000000</td>\n",
       "    </tr>\n",
       "    <tr>\n",
       "      <th>50%</th>\n",
       "      <td>28.000000</td>\n",
       "      <td>2641.000000</td>\n",
       "      <td>75.676937</td>\n",
       "      <td>68.000000</td>\n",
       "    </tr>\n",
       "    <tr>\n",
       "      <th>75%</th>\n",
       "      <td>47.000000</td>\n",
       "      <td>3171.000000</td>\n",
       "      <td>88.621065</td>\n",
       "      <td>72.000000</td>\n",
       "    </tr>\n",
       "    <tr>\n",
       "      <th>max</th>\n",
       "      <td>133.000000</td>\n",
       "      <td>6399.000000</td>\n",
       "      <td>153.145378</td>\n",
       "      <td>88.000000</td>\n",
       "    </tr>\n",
       "  </tbody>\n",
       "</table>\n",
       "</div>"
      ],
      "text/plain": [
       "             Weeks          FVC      Percent          Age\n",
       "count  1549.000000  1549.000000  1549.000000  1549.000000\n",
       "mean     31.861846  2690.479019    77.672654    67.188509\n",
       "std      23.247550   832.770959    19.823261     7.057395\n",
       "min      -5.000000   827.000000    28.877577    49.000000\n",
       "25%      12.000000  2109.000000    62.832700    63.000000\n",
       "50%      28.000000  2641.000000    75.676937    68.000000\n",
       "75%      47.000000  3171.000000    88.621065    72.000000\n",
       "max     133.000000  6399.000000   153.145378    88.000000"
      ]
     },
     "execution_count": 5,
     "metadata": {},
     "output_type": "execute_result"
    }
   ],
   "source": [
    "train.describe()"
   ]
  },
  {
   "cell_type": "code",
   "execution_count": 6,
   "metadata": {
    "execution": {
     "iopub.execute_input": "2021-01-15T12:55:01.686602Z",
     "iopub.status.busy": "2021-01-15T12:55:01.672418Z",
     "iopub.status.idle": "2021-01-15T12:55:01.691557Z",
     "shell.execute_reply": "2021-01-15T12:55:01.690854Z"
    },
    "papermill": {
     "duration": 0.058814,
     "end_time": "2021-01-15T12:55:01.691688",
     "exception": false,
     "start_time": "2021-01-15T12:55:01.632874",
     "status": "completed"
    },
    "tags": []
   },
   "outputs": [
    {
     "data": {
      "text/html": [
       "<div>\n",
       "<style scoped>\n",
       "    .dataframe tbody tr th:only-of-type {\n",
       "        vertical-align: middle;\n",
       "    }\n",
       "\n",
       "    .dataframe tbody tr th {\n",
       "        vertical-align: top;\n",
       "    }\n",
       "\n",
       "    .dataframe thead th {\n",
       "        text-align: right;\n",
       "    }\n",
       "</style>\n",
       "<table border=\"1\" class=\"dataframe\">\n",
       "  <thead>\n",
       "    <tr style=\"text-align: right;\">\n",
       "      <th></th>\n",
       "      <th>Weeks</th>\n",
       "      <th>FVC</th>\n",
       "      <th>Percent</th>\n",
       "      <th>Age</th>\n",
       "    </tr>\n",
       "  </thead>\n",
       "  <tbody>\n",
       "    <tr>\n",
       "      <th>count</th>\n",
       "      <td>5.000000</td>\n",
       "      <td>5.000000</td>\n",
       "      <td>5.000000</td>\n",
       "      <td>5.000000</td>\n",
       "    </tr>\n",
       "    <tr>\n",
       "      <th>mean</th>\n",
       "      <td>8.800000</td>\n",
       "      <td>2781.600000</td>\n",
       "      <td>75.997702</td>\n",
       "      <td>71.800000</td>\n",
       "    </tr>\n",
       "    <tr>\n",
       "      <th>std</th>\n",
       "      <td>7.049823</td>\n",
       "      <td>516.475846</td>\n",
       "      <td>4.970960</td>\n",
       "      <td>2.167948</td>\n",
       "    </tr>\n",
       "    <tr>\n",
       "      <th>min</th>\n",
       "      <td>0.000000</td>\n",
       "      <td>1930.000000</td>\n",
       "      <td>70.186855</td>\n",
       "      <td>68.000000</td>\n",
       "    </tr>\n",
       "    <tr>\n",
       "      <th>25%</th>\n",
       "      <td>6.000000</td>\n",
       "      <td>2739.000000</td>\n",
       "      <td>71.824968</td>\n",
       "      <td>72.000000</td>\n",
       "    </tr>\n",
       "    <tr>\n",
       "      <th>50%</th>\n",
       "      <td>6.000000</td>\n",
       "      <td>2925.000000</td>\n",
       "      <td>76.672493</td>\n",
       "      <td>73.000000</td>\n",
       "    </tr>\n",
       "    <tr>\n",
       "      <th>75%</th>\n",
       "      <td>15.000000</td>\n",
       "      <td>3020.000000</td>\n",
       "      <td>79.258903</td>\n",
       "      <td>73.000000</td>\n",
       "    </tr>\n",
       "    <tr>\n",
       "      <th>max</th>\n",
       "      <td>17.000000</td>\n",
       "      <td>3294.000000</td>\n",
       "      <td>82.045291</td>\n",
       "      <td>73.000000</td>\n",
       "    </tr>\n",
       "  </tbody>\n",
       "</table>\n",
       "</div>"
      ],
      "text/plain": [
       "           Weeks          FVC    Percent        Age\n",
       "count   5.000000     5.000000   5.000000   5.000000\n",
       "mean    8.800000  2781.600000  75.997702  71.800000\n",
       "std     7.049823   516.475846   4.970960   2.167948\n",
       "min     0.000000  1930.000000  70.186855  68.000000\n",
       "25%     6.000000  2739.000000  71.824968  72.000000\n",
       "50%     6.000000  2925.000000  76.672493  73.000000\n",
       "75%    15.000000  3020.000000  79.258903  73.000000\n",
       "max    17.000000  3294.000000  82.045291  73.000000"
      ]
     },
     "execution_count": 6,
     "metadata": {},
     "output_type": "execute_result"
    }
   ],
   "source": [
    "test.describe()"
   ]
  },
  {
   "cell_type": "code",
   "execution_count": 7,
   "metadata": {
    "execution": {
     "iopub.execute_input": "2021-01-15T12:55:01.760420Z",
     "iopub.status.busy": "2021-01-15T12:55:01.759548Z",
     "iopub.status.idle": "2021-01-15T12:55:01.763685Z",
     "shell.execute_reply": "2021-01-15T12:55:01.763045Z"
    },
    "papermill": {
     "duration": 0.04084,
     "end_time": "2021-01-15T12:55:01.763798",
     "exception": false,
     "start_time": "2021-01-15T12:55:01.722958",
     "status": "completed"
    },
    "tags": []
   },
   "outputs": [
    {
     "name": "stdout",
     "output_type": "stream",
     "text": [
      "Number of unique patients: 176\n"
     ]
    }
   ],
   "source": [
    "#Patient\n",
    "print('Number of unique patients:',len(train['Patient'].unique()))"
   ]
  },
  {
   "cell_type": "code",
   "execution_count": 8,
   "metadata": {
    "execution": {
     "iopub.execute_input": "2021-01-15T12:55:01.835714Z",
     "iopub.status.busy": "2021-01-15T12:55:01.834684Z",
     "iopub.status.idle": "2021-01-15T12:55:01.839788Z",
     "shell.execute_reply": "2021-01-15T12:55:01.839123Z"
    },
    "papermill": {
     "duration": 0.045062,
     "end_time": "2021-01-15T12:55:01.839902",
     "exception": false,
     "start_time": "2021-01-15T12:55:01.794840",
     "status": "completed"
    },
    "tags": []
   },
   "outputs": [
    {
     "data": {
      "text/plain": [
       "ID00105637202208831864134    10\n",
       "ID00343637202287577133798    10\n",
       "ID00421637202311550012437    10\n",
       "ID00167637202237397919352    10\n",
       "ID00400637202305055099402    10\n",
       "                             ..\n",
       "ID00276637202271694539978     7\n",
       "ID00111637202210956877205     7\n",
       "ID00052637202186188008618     7\n",
       "ID00047637202184938901501     6\n",
       "ID00267637202270790561585     6\n",
       "Name: Patient, Length: 176, dtype: int64"
      ]
     },
     "execution_count": 8,
     "metadata": {},
     "output_type": "execute_result"
    }
   ],
   "source": [
    "train['Patient'].value_counts()"
   ]
  },
  {
   "cell_type": "markdown",
   "metadata": {
    "papermill": {
     "duration": 0.031701,
     "end_time": "2021-01-15T12:55:01.903102",
     "exception": false,
     "start_time": "2021-01-15T12:55:01.871401",
     "status": "completed"
    },
    "tags": []
   },
   "source": [
    "There are 176 unique patient information given in training data, and each patient's record is included as minimum as 6 times and maximum upto 10 times, since the FVC measurement is done at different week counts."
   ]
  },
  {
   "cell_type": "code",
   "execution_count": 9,
   "metadata": {
    "execution": {
     "iopub.execute_input": "2021-01-15T12:55:01.978620Z",
     "iopub.status.busy": "2021-01-15T12:55:01.977852Z",
     "iopub.status.idle": "2021-01-15T12:55:01.982780Z",
     "shell.execute_reply": "2021-01-15T12:55:01.982146Z"
    },
    "papermill": {
     "duration": 0.046887,
     "end_time": "2021-01-15T12:55:01.982891",
     "exception": false,
     "start_time": "2021-01-15T12:55:01.936004",
     "status": "completed"
    },
    "tags": []
   },
   "outputs": [
    {
     "name": "stdout",
     "output_type": "stream",
     "text": [
      "Missing value in train data:\n",
      " Patient          False\n",
      "Weeks            False\n",
      "FVC              False\n",
      "Percent          False\n",
      "Age              False\n",
      "Sex              False\n",
      "SmokingStatus    False\n",
      "dtype: bool\n",
      "Missing value in test data:\n",
      " Patient          False\n",
      "Weeks            False\n",
      "FVC              False\n",
      "Percent          False\n",
      "Age              False\n",
      "Sex              False\n",
      "SmokingStatus    False\n",
      "dtype: bool\n"
     ]
    }
   ],
   "source": [
    "#Checking missing value\n",
    "print('Missing value in train data:\\n', train.isnull().any())\n",
    "print('Missing value in test data:\\n', test.isnull().any())"
   ]
  },
  {
   "cell_type": "code",
   "execution_count": 10,
   "metadata": {
    "execution": {
     "iopub.execute_input": "2021-01-15T12:55:02.053814Z",
     "iopub.status.busy": "2021-01-15T12:55:02.053051Z",
     "iopub.status.idle": "2021-01-15T12:55:02.300618Z",
     "shell.execute_reply": "2021-01-15T12:55:02.300045Z"
    },
    "papermill": {
     "duration": 0.28595,
     "end_time": "2021-01-15T12:55:02.300746",
     "exception": false,
     "start_time": "2021-01-15T12:55:02.014796",
     "status": "completed"
    },
    "tags": []
   },
   "outputs": [
    {
     "data": {
      "image/png": "[encoded data removed]",
      "text/plain": [
       "<Figure size 720x360 with 1 Axes>"
      ]
     },
     "metadata": {
      "needs_background": "light"
     },
     "output_type": "display_data"
    }
   ],
   "source": [
    "#Week\n",
    "fig=plt.figure(figsize=(10,5))\n",
    "sn.distplot(train['Weeks'])\n",
    "plt.title('Week Distribution',size=15)\n",
    "plt.xlabel('Week Value',size=12)\n",
    "plt.ylabel('Density', size=12);"
   ]
  },
  {
   "cell_type": "markdown",
   "metadata": {
    "papermill": {
     "duration": 0.032774,
     "end_time": "2021-01-15T12:55:02.366740",
     "exception": false,
     "start_time": "2021-01-15T12:55:02.333966",
     "status": "completed"
    },
    "tags": []
   },
   "source": [
    "Most patient's FVC value is recorded in between week 1 and week 25. Also, week value can be negative too, which means FVC is measured before baseline CT scan."
   ]
  },
  {
   "cell_type": "code",
   "execution_count": 11,
   "metadata": {
    "execution": {
     "iopub.execute_input": "2021-01-15T12:55:02.440298Z",
     "iopub.status.busy": "2021-01-15T12:55:02.439530Z",
     "iopub.status.idle": "2021-01-15T12:55:02.671643Z",
     "shell.execute_reply": "2021-01-15T12:55:02.672125Z"
    },
    "papermill": {
     "duration": 0.272767,
     "end_time": "2021-01-15T12:55:02.672295",
     "exception": false,
     "start_time": "2021-01-15T12:55:02.399528",
     "status": "completed"
    },
    "tags": []
   },
   "outputs": [
    {
     "data": {
      "image/png": "[encoded data removed]",
      "text/plain": [
       "<Figure size 720x360 with 1 Axes>"
      ]
     },
     "metadata": {
      "needs_background": "light"
     },
     "output_type": "display_data"
    }
   ],
   "source": [
    "#FVC\n",
    "fig=plt.figure(figsize=(10,5))\n",
    "sn.distplot(train['FVC'], color='coral')\n",
    "plt.title('FVC Value Distribution',size=15)\n",
    "plt.xlabel('FVC Value',size=12)\n",
    "plt.ylabel('Density', size=12);"
   ]
  },
  {
   "cell_type": "markdown",
   "metadata": {
    "papermill": {
     "duration": 0.034849,
     "end_time": "2021-01-15T12:55:02.742358",
     "exception": false,
     "start_time": "2021-01-15T12:55:02.707509",
     "status": "completed"
    },
    "tags": []
   },
   "source": [
    "FVC value is measured in ml, most of the patient's have FVC value between 2000ml and 3000ml. And very few patients have FVC more than 5000ml. "
   ]
  },
  {
   "cell_type": "code",
   "execution_count": 12,
   "metadata": {
    "execution": {
     "iopub.execute_input": "2021-01-15T12:55:02.815477Z",
     "iopub.status.busy": "2021-01-15T12:55:02.814782Z",
     "iopub.status.idle": "2021-01-15T12:55:03.037962Z",
     "shell.execute_reply": "2021-01-15T12:55:03.038541Z"
    },
    "papermill": {
     "duration": 0.262134,
     "end_time": "2021-01-15T12:55:03.038700",
     "exception": false,
     "start_time": "2021-01-15T12:55:02.776566",
     "status": "completed"
    },
    "tags": []
   },
   "outputs": [
    {
     "data": {
      "image/png": "[encoded data removed]",
      "text/plain": [
       "<Figure size 720x360 with 1 Axes>"
      ]
     },
     "metadata": {
      "needs_background": "light"
     },
     "output_type": "display_data"
    }
   ],
   "source": [
    "#Percent\n",
    "fig=plt.figure(figsize=(10,5))\n",
    "sn.distplot(train['Percent'], color='Teal')\n",
    "plt.title('Percent Value Distribution',size=15)\n",
    "plt.xlabel('Percent Value',size=12)\n",
    "plt.ylabel('Density', size=12);"
   ]
  },
  {
   "cell_type": "markdown",
   "metadata": {
    "papermill": {
     "duration": 0.034901,
     "end_time": "2021-01-15T12:55:03.109891",
     "exception": false,
     "start_time": "2021-01-15T12:55:03.074990",
     "status": "completed"
    },
    "tags": []
   },
   "source": [
    "This Percent column is not the actual depiction os some percentage value.\n",
    "## Analysing Patient's Age, Sex and Smoking status "
   ]
  },
  {
   "cell_type": "code",
   "execution_count": 13,
   "metadata": {
    "execution": {
     "iopub.execute_input": "2021-01-15T12:55:03.186409Z",
     "iopub.status.busy": "2021-01-15T12:55:03.185761Z",
     "iopub.status.idle": "2021-01-15T12:55:03.207466Z",
     "shell.execute_reply": "2021-01-15T12:55:03.208013Z"
    },
    "papermill": {
     "duration": 0.062818,
     "end_time": "2021-01-15T12:55:03.208170",
     "exception": false,
     "start_time": "2021-01-15T12:55:03.145352",
     "status": "completed"
    },
    "tags": []
   },
   "outputs": [
    {
     "data": {
      "text/html": [
       "<div>\n",
       "<style scoped>\n",
       "    .dataframe tbody tr th:only-of-type {\n",
       "        vertical-align: middle;\n",
       "    }\n",
       "\n",
       "    .dataframe tbody tr th {\n",
       "        vertical-align: top;\n",
       "    }\n",
       "\n",
       "    .dataframe thead th {\n",
       "        text-align: right;\n",
       "    }\n",
       "</style>\n",
       "<table border=\"1\" class=\"dataframe\">\n",
       "  <thead>\n",
       "    <tr style=\"text-align: right;\">\n",
       "      <th></th>\n",
       "      <th>Patient</th>\n",
       "      <th>Age</th>\n",
       "      <th>Sex</th>\n",
       "      <th>SmokingStatus</th>\n",
       "    </tr>\n",
       "  </thead>\n",
       "  <tbody>\n",
       "    <tr>\n",
       "      <th>0</th>\n",
       "      <td>ID00007637202177411956430</td>\n",
       "      <td>79</td>\n",
       "      <td>Male</td>\n",
       "      <td>Ex-smoker</td>\n",
       "    </tr>\n",
       "    <tr>\n",
       "      <th>9</th>\n",
       "      <td>ID00009637202177434476278</td>\n",
       "      <td>69</td>\n",
       "      <td>Male</td>\n",
       "      <td>Ex-smoker</td>\n",
       "    </tr>\n",
       "    <tr>\n",
       "      <th>18</th>\n",
       "      <td>ID00010637202177584971671</td>\n",
       "      <td>60</td>\n",
       "      <td>Male</td>\n",
       "      <td>Ex-smoker</td>\n",
       "    </tr>\n",
       "    <tr>\n",
       "      <th>27</th>\n",
       "      <td>ID00011637202177653955184</td>\n",
       "      <td>72</td>\n",
       "      <td>Male</td>\n",
       "      <td>Ex-smoker</td>\n",
       "    </tr>\n",
       "    <tr>\n",
       "      <th>36</th>\n",
       "      <td>ID00012637202177665765362</td>\n",
       "      <td>65</td>\n",
       "      <td>Male</td>\n",
       "      <td>Never smoked</td>\n",
       "    </tr>\n",
       "    <tr>\n",
       "      <th>...</th>\n",
       "      <td>...</td>\n",
       "      <td>...</td>\n",
       "      <td>...</td>\n",
       "      <td>...</td>\n",
       "    </tr>\n",
       "    <tr>\n",
       "      <th>1504</th>\n",
       "      <td>ID00419637202311204720264</td>\n",
       "      <td>73</td>\n",
       "      <td>Male</td>\n",
       "      <td>Ex-smoker</td>\n",
       "    </tr>\n",
       "    <tr>\n",
       "      <th>1513</th>\n",
       "      <td>ID00421637202311550012437</td>\n",
       "      <td>68</td>\n",
       "      <td>Male</td>\n",
       "      <td>Ex-smoker</td>\n",
       "    </tr>\n",
       "    <tr>\n",
       "      <th>1523</th>\n",
       "      <td>ID00422637202311677017371</td>\n",
       "      <td>73</td>\n",
       "      <td>Male</td>\n",
       "      <td>Ex-smoker</td>\n",
       "    </tr>\n",
       "    <tr>\n",
       "      <th>1531</th>\n",
       "      <td>ID00423637202312137826377</td>\n",
       "      <td>72</td>\n",
       "      <td>Male</td>\n",
       "      <td>Ex-smoker</td>\n",
       "    </tr>\n",
       "    <tr>\n",
       "      <th>1540</th>\n",
       "      <td>ID00426637202313170790466</td>\n",
       "      <td>73</td>\n",
       "      <td>Male</td>\n",
       "      <td>Never smoked</td>\n",
       "    </tr>\n",
       "  </tbody>\n",
       "</table>\n",
       "<p>176 rows × 4 columns</p>\n",
       "</div>"
      ],
      "text/plain": [
       "                        Patient  Age   Sex SmokingStatus\n",
       "0     ID00007637202177411956430   79  Male     Ex-smoker\n",
       "9     ID00009637202177434476278   69  Male     Ex-smoker\n",
       "18    ID00010637202177584971671   60  Male     Ex-smoker\n",
       "27    ID00011637202177653955184   72  Male     Ex-smoker\n",
       "36    ID00012637202177665765362   65  Male  Never smoked\n",
       "...                         ...  ...   ...           ...\n",
       "1504  ID00419637202311204720264   73  Male     Ex-smoker\n",
       "1513  ID00421637202311550012437   68  Male     Ex-smoker\n",
       "1523  ID00422637202311677017371   73  Male     Ex-smoker\n",
       "1531  ID00423637202312137826377   72  Male     Ex-smoker\n",
       "1540  ID00426637202313170790466   73  Male  Never smoked\n",
       "\n",
       "[176 rows x 4 columns]"
      ]
     },
     "execution_count": 13,
     "metadata": {},
     "output_type": "execute_result"
    }
   ],
   "source": [
    "temp = train[['Patient','Age','Sex','SmokingStatus']].drop_duplicates()\n",
    "temp"
   ]
  },
  {
   "cell_type": "code",
   "execution_count": 14,
   "metadata": {
    "execution": {
     "iopub.execute_input": "2021-01-15T12:55:03.294644Z",
     "iopub.status.busy": "2021-01-15T12:55:03.288651Z",
     "iopub.status.idle": "2021-01-15T12:55:03.481088Z",
     "shell.execute_reply": "2021-01-15T12:55:03.480437Z"
    },
    "papermill": {
     "duration": 0.236726,
     "end_time": "2021-01-15T12:55:03.481213",
     "exception": false,
     "start_time": "2021-01-15T12:55:03.244487",
     "status": "completed"
    },
    "tags": []
   },
   "outputs": [
    {
     "data": {
      "image/png": "[encoded data removed]",
      "text/plain": [
       "<Figure size 720x360 with 1 Axes>"
      ]
     },
     "metadata": {
      "needs_background": "light"
     },
     "output_type": "display_data"
    }
   ],
   "source": [
    "plt.figure(figsize=(10,5))\n",
    "sn.distplot(temp['Age'],)\n",
    "plt.title('Age Distribution',size=15)\n",
    "plt.xlabel('Age',size=12)\n",
    "plt.ylabel('Density', size=12);"
   ]
  },
  {
   "cell_type": "markdown",
   "metadata": {
    "papermill": {
     "duration": 0.03727,
     "end_time": "2021-01-15T12:55:03.556637",
     "exception": false,
     "start_time": "2021-01-15T12:55:03.519367",
     "status": "completed"
    },
    "tags": []
   },
   "source": [
    "Most Patient's age is approximately in the range of 65 to 75."
   ]
  },
  {
   "cell_type": "code",
   "execution_count": 15,
   "metadata": {
    "execution": {
     "iopub.execute_input": "2021-01-15T12:55:03.637291Z",
     "iopub.status.busy": "2021-01-15T12:55:03.636506Z",
     "iopub.status.idle": "2021-01-15T12:55:03.640608Z",
     "shell.execute_reply": "2021-01-15T12:55:03.639954Z"
    },
    "papermill": {
     "duration": 0.046914,
     "end_time": "2021-01-15T12:55:03.640724",
     "exception": false,
     "start_time": "2021-01-15T12:55:03.593810",
     "status": "completed"
    },
    "tags": []
   },
   "outputs": [
    {
     "name": "stdout",
     "output_type": "stream",
     "text": [
      "Minimum age: 49\n",
      "Maximum age: 88\n"
     ]
    }
   ],
   "source": [
    "print('Minimum age:', temp['Age'].min())\n",
    "print('Maximum age:', temp['Age'].max())"
   ]
  },
  {
   "cell_type": "code",
   "execution_count": 16,
   "metadata": {
    "execution": {
     "iopub.execute_input": "2021-01-15T12:55:03.733039Z",
     "iopub.status.busy": "2021-01-15T12:55:03.725219Z",
     "iopub.status.idle": "2021-01-15T12:55:03.969753Z",
     "shell.execute_reply": "2021-01-15T12:55:03.970338Z"
    },
    "papermill": {
     "duration": 0.291954,
     "end_time": "2021-01-15T12:55:03.970485",
     "exception": false,
     "start_time": "2021-01-15T12:55:03.678531",
     "status": "completed"
    },
    "tags": []
   },
   "outputs": [
    {
     "data": {
      "image/png": "[encoded data removed]",
      "text/plain": [
       "<Figure size 864x432 with 2 Axes>"
      ]
     },
     "metadata": {
      "needs_background": "light"
     },
     "output_type": "display_data"
    }
   ],
   "source": [
    "# Figure\n",
    "f, (ax2, ax3) = plt.subplots(1, 2, figsize = (12, 6))\n",
    "\n",
    "b = sn.countplot(x = \"Sex\",data=temp, ax=ax2,)\n",
    "c = sn.countplot(x = \"SmokingStatus\",data= temp, ax=ax3,)\n",
    "\n",
    "\n",
    "b.set_title(\"Sex Frequency\", fontsize=16)\n",
    "c.set_title(\"Smoking Status\", fontsize=16);"
   ]
  },
  {
   "cell_type": "markdown",
   "metadata": {
    "papermill": {
     "duration": 0.038884,
     "end_time": "2021-01-15T12:55:04.048676",
     "exception": false,
     "start_time": "2021-01-15T12:55:04.009792",
     "status": "completed"
    },
    "tags": []
   },
   "source": [
    "# Dicom Data Analysis\n",
    "This is my first experience working with dicom data. DICOM stands for Digital Imaging and Communications in Medicine. It is a standard, internationally accepted format to view, store, retrieve and share medical images. DICOM is a format that has metadata, as well as Pixeldata attached to it.Some basic info can be extracted from image metadata: gender and age of the patient, as well as info how the image is sampled and generated.\n",
    "<br> As there are 176 patient in train data, so corresponding to each patient we have a folder(folder name=Patient id) which contains CT scan in DICOM format.  "
   ]
  },
  {
   "cell_type": "code",
   "execution_count": 17,
   "metadata": {
    "execution": {
     "iopub.execute_input": "2021-01-15T12:55:04.133303Z",
     "iopub.status.busy": "2021-01-15T12:55:04.132522Z",
     "iopub.status.idle": "2021-01-15T12:55:12.003718Z",
     "shell.execute_reply": "2021-01-15T12:55:12.002953Z"
    },
    "papermill": {
     "duration": 7.91603,
     "end_time": "2021-01-15T12:55:12.003843",
     "exception": false,
     "start_time": "2021-01-15T12:55:04.087813",
     "status": "completed"
    },
    "tags": []
   },
   "outputs": [],
   "source": [
    "train_path = '/kaggle/input/osic-pulmonary-fibrosis-progression/train'\n",
    "train_dir = os.listdir(train_path)\n",
    "scan_per_patient = []\n",
    "for dirc in train_dir:\n",
    "    scans = len(os.listdir(train_path+'/'+dirc))\n",
    "    scan_per_patient.append(scans)"
   ]
  },
  {
   "cell_type": "code",
   "execution_count": 18,
   "metadata": {
    "execution": {
     "iopub.execute_input": "2021-01-15T12:55:12.095785Z",
     "iopub.status.busy": "2021-01-15T12:55:12.095057Z",
     "iopub.status.idle": "2021-01-15T12:55:12.103749Z",
     "shell.execute_reply": "2021-01-15T12:55:12.103055Z"
    },
    "papermill": {
     "duration": 0.060894,
     "end_time": "2021-01-15T12:55:12.103869",
     "exception": false,
     "start_time": "2021-01-15T12:55:12.042975",
     "status": "completed"
    },
    "tags": []
   },
   "outputs": [
    {
     "data": {
      "text/html": [
       "<div>\n",
       "<style scoped>\n",
       "    .dataframe tbody tr th:only-of-type {\n",
       "        vertical-align: middle;\n",
       "    }\n",
       "\n",
       "    .dataframe tbody tr th {\n",
       "        vertical-align: top;\n",
       "    }\n",
       "\n",
       "    .dataframe thead th {\n",
       "        text-align: right;\n",
       "    }\n",
       "</style>\n",
       "<table border=\"1\" class=\"dataframe\">\n",
       "  <thead>\n",
       "    <tr style=\"text-align: right;\">\n",
       "      <th></th>\n",
       "      <th>Patient_ID</th>\n",
       "      <th>Scans_Per_Patient</th>\n",
       "    </tr>\n",
       "  </thead>\n",
       "  <tbody>\n",
       "    <tr>\n",
       "      <th>0</th>\n",
       "      <td>ID00015637202177877247924</td>\n",
       "      <td>295</td>\n",
       "    </tr>\n",
       "    <tr>\n",
       "      <th>1</th>\n",
       "      <td>ID00035637202182204917484</td>\n",
       "      <td>574</td>\n",
       "    </tr>\n",
       "    <tr>\n",
       "      <th>2</th>\n",
       "      <td>ID00290637202279304677843</td>\n",
       "      <td>240</td>\n",
       "    </tr>\n",
       "    <tr>\n",
       "      <th>3</th>\n",
       "      <td>ID00400637202305055099402</td>\n",
       "      <td>265</td>\n",
       "    </tr>\n",
       "    <tr>\n",
       "      <th>4</th>\n",
       "      <td>ID00073637202198167792918</td>\n",
       "      <td>355</td>\n",
       "    </tr>\n",
       "    <tr>\n",
       "      <th>...</th>\n",
       "      <td>...</td>\n",
       "      <td>...</td>\n",
       "    </tr>\n",
       "    <tr>\n",
       "      <th>171</th>\n",
       "      <td>ID00086637202203494931510</td>\n",
       "      <td>30</td>\n",
       "    </tr>\n",
       "    <tr>\n",
       "      <th>172</th>\n",
       "      <td>ID00216637202257988213445</td>\n",
       "      <td>21</td>\n",
       "    </tr>\n",
       "    <tr>\n",
       "      <th>173</th>\n",
       "      <td>ID00240637202264138860065</td>\n",
       "      <td>33</td>\n",
       "    </tr>\n",
       "    <tr>\n",
       "      <th>174</th>\n",
       "      <td>ID00248637202266698862378</td>\n",
       "      <td>16</td>\n",
       "    </tr>\n",
       "    <tr>\n",
       "      <th>175</th>\n",
       "      <td>ID00233637202260580149633</td>\n",
       "      <td>405</td>\n",
       "    </tr>\n",
       "  </tbody>\n",
       "</table>\n",
       "<p>176 rows × 2 columns</p>\n",
       "</div>"
      ],
      "text/plain": [
       "                    Patient_ID  Scans_Per_Patient\n",
       "0    ID00015637202177877247924                295\n",
       "1    ID00035637202182204917484                574\n",
       "2    ID00290637202279304677843                240\n",
       "3    ID00400637202305055099402                265\n",
       "4    ID00073637202198167792918                355\n",
       "..                         ...                ...\n",
       "171  ID00086637202203494931510                 30\n",
       "172  ID00216637202257988213445                 21\n",
       "173  ID00240637202264138860065                 33\n",
       "174  ID00248637202266698862378                 16\n",
       "175  ID00233637202260580149633                405\n",
       "\n",
       "[176 rows x 2 columns]"
      ]
     },
     "execution_count": 18,
     "metadata": {},
     "output_type": "execute_result"
    }
   ],
   "source": [
    "train_CT = pd.DataFrame({'Patient_ID':train_dir,'Scans_Per_Patient':scan_per_patient})\n",
    "train_CT"
   ]
  },
  {
   "cell_type": "code",
   "execution_count": 19,
   "metadata": {
    "execution": {
     "iopub.execute_input": "2021-01-15T12:55:12.192987Z",
     "iopub.status.busy": "2021-01-15T12:55:12.191910Z",
     "iopub.status.idle": "2021-01-15T12:55:12.196198Z",
     "shell.execute_reply": "2021-01-15T12:55:12.195349Z"
    },
    "papermill": {
     "duration": 0.052365,
     "end_time": "2021-01-15T12:55:12.196366",
     "exception": false,
     "start_time": "2021-01-15T12:55:12.144001",
     "status": "completed"
    },
    "tags": []
   },
   "outputs": [
    {
     "name": "stdout",
     "output_type": "stream",
     "text": [
      "Minimum number of CT Scans: 12\n",
      "Maximum number of CT Scans: 1018\n",
      "Average number of CT Scans: 187.64772727272728\n"
     ]
    }
   ],
   "source": [
    "print('Minimum number of CT Scans:', train_CT['Scans_Per_Patient'].min())\n",
    "print('Maximum number of CT Scans:', train_CT['Scans_Per_Patient'].max())\n",
    "print('Average number of CT Scans:', train_CT['Scans_Per_Patient'].mean())"
   ]
  },
  {
   "cell_type": "code",
   "execution_count": 20,
   "metadata": {
    "execution": {
     "iopub.execute_input": "2021-01-15T12:55:12.286310Z",
     "iopub.status.busy": "2021-01-15T12:55:12.285523Z",
     "iopub.status.idle": "2021-01-15T12:55:12.712978Z",
     "shell.execute_reply": "2021-01-15T12:55:12.712379Z"
    },
    "papermill": {
     "duration": 0.474077,
     "end_time": "2021-01-15T12:55:12.713096",
     "exception": false,
     "start_time": "2021-01-15T12:55:12.239019",
     "status": "completed"
    },
    "tags": []
   },
   "outputs": [],
   "source": [
    "test_path = '/kaggle/input/osic-pulmonary-fibrosis-progression/test'\n",
    "test_dir = os.listdir(test_path)\n",
    "scan_per_patient = []\n",
    "for dirc in test_dir:\n",
    "    scans = len(os.listdir(test_path+'/'+dirc))\n",
    "    scan_per_patient.append(scans)"
   ]
  },
  {
   "cell_type": "code",
   "execution_count": 21,
   "metadata": {
    "execution": {
     "iopub.execute_input": "2021-01-15T12:55:12.804000Z",
     "iopub.status.busy": "2021-01-15T12:55:12.803344Z",
     "iopub.status.idle": "2021-01-15T12:55:12.807123Z",
     "shell.execute_reply": "2021-01-15T12:55:12.806519Z"
    },
    "papermill": {
     "duration": 0.053947,
     "end_time": "2021-01-15T12:55:12.807239",
     "exception": false,
     "start_time": "2021-01-15T12:55:12.753292",
     "status": "completed"
    },
    "tags": []
   },
   "outputs": [
    {
     "data": {
      "text/html": [
       "<div>\n",
       "<style scoped>\n",
       "    .dataframe tbody tr th:only-of-type {\n",
       "        vertical-align: middle;\n",
       "    }\n",
       "\n",
       "    .dataframe tbody tr th {\n",
       "        vertical-align: top;\n",
       "    }\n",
       "\n",
       "    .dataframe thead th {\n",
       "        text-align: right;\n",
       "    }\n",
       "</style>\n",
       "<table border=\"1\" class=\"dataframe\">\n",
       "  <thead>\n",
       "    <tr style=\"text-align: right;\">\n",
       "      <th></th>\n",
       "      <th>Patient_ID</th>\n",
       "      <th>Scans_Per_Patient</th>\n",
       "    </tr>\n",
       "  </thead>\n",
       "  <tbody>\n",
       "    <tr>\n",
       "      <th>0</th>\n",
       "      <td>ID00419637202311204720264</td>\n",
       "      <td>28</td>\n",
       "    </tr>\n",
       "    <tr>\n",
       "      <th>1</th>\n",
       "      <td>ID00421637202311550012437</td>\n",
       "      <td>62</td>\n",
       "    </tr>\n",
       "    <tr>\n",
       "      <th>2</th>\n",
       "      <td>ID00422637202311677017371</td>\n",
       "      <td>473</td>\n",
       "    </tr>\n",
       "    <tr>\n",
       "      <th>3</th>\n",
       "      <td>ID00423637202312137826377</td>\n",
       "      <td>290</td>\n",
       "    </tr>\n",
       "    <tr>\n",
       "      <th>4</th>\n",
       "      <td>ID00426637202313170790466</td>\n",
       "      <td>408</td>\n",
       "    </tr>\n",
       "  </tbody>\n",
       "</table>\n",
       "</div>"
      ],
      "text/plain": [
       "                  Patient_ID  Scans_Per_Patient\n",
       "0  ID00419637202311204720264                 28\n",
       "1  ID00421637202311550012437                 62\n",
       "2  ID00422637202311677017371                473\n",
       "3  ID00423637202312137826377                290\n",
       "4  ID00426637202313170790466                408"
      ]
     },
     "execution_count": 21,
     "metadata": {},
     "output_type": "execute_result"
    }
   ],
   "source": [
    "test_CT = pd.DataFrame({'Patient_ID':test_dir,'Scans_Per_Patient':scan_per_patient})\n",
    "test_CT"
   ]
  },
  {
   "cell_type": "code",
   "execution_count": 22,
   "metadata": {
    "execution": {
     "iopub.execute_input": "2021-01-15T12:55:12.896478Z",
     "iopub.status.busy": "2021-01-15T12:55:12.895780Z",
     "iopub.status.idle": "2021-01-15T12:55:13.147733Z",
     "shell.execute_reply": "2021-01-15T12:55:13.148218Z"
    },
    "papermill": {
     "duration": 0.300279,
     "end_time": "2021-01-15T12:55:13.148394",
     "exception": false,
     "start_time": "2021-01-15T12:55:12.848115",
     "status": "completed"
    },
    "tags": []
   },
   "outputs": [],
   "source": [
    "# https://www.kdnuggets.com/2017/03/medical-image-analysis-deep-learning.html\n",
    "path = '/kaggle/input/osic-pulmonary-fibrosis-progression/'\n",
    "dicom_files = []  # create an empty list\n",
    "for dirName, subdirList, fileList in os.walk(path):\n",
    "    for filename in fileList:\n",
    "        if \".dcm\" in filename.lower():  # check whether the file's DICOM\n",
    "            dicom_files.append(os.path.join(dirName,filename))\n"
   ]
  },
  {
   "cell_type": "code",
   "execution_count": 23,
   "metadata": {
    "execution": {
     "iopub.execute_input": "2021-01-15T12:55:13.248914Z",
     "iopub.status.busy": "2021-01-15T12:55:13.247911Z",
     "iopub.status.idle": "2021-01-15T12:55:13.251317Z",
     "shell.execute_reply": "2021-01-15T12:55:13.251834Z"
    },
    "papermill": {
     "duration": 0.059348,
     "end_time": "2021-01-15T12:55:13.251985",
     "exception": false,
     "start_time": "2021-01-15T12:55:13.192637",
     "status": "completed"
    },
    "tags": []
   },
   "outputs": [
    {
     "name": "stdout",
     "output_type": "stream",
     "text": [
      "There are total 34287 dicom files given to us\n"
     ]
    }
   ],
   "source": [
    "print('There are total {} dicom files given to us'.format(len(dicom_files)))"
   ]
  },
  {
   "cell_type": "code",
   "execution_count": 24,
   "metadata": {
    "execution": {
     "iopub.execute_input": "2021-01-15T12:55:13.341480Z",
     "iopub.status.busy": "2021-01-15T12:55:13.340612Z",
     "iopub.status.idle": "2021-01-15T12:55:13.344930Z",
     "shell.execute_reply": "2021-01-15T12:55:13.344315Z"
    },
    "papermill": {
     "duration": 0.051689,
     "end_time": "2021-01-15T12:55:13.345040",
     "exception": false,
     "start_time": "2021-01-15T12:55:13.293351",
     "status": "completed"
    },
    "tags": []
   },
   "outputs": [
    {
     "data": {
      "text/plain": [
       "['/kaggle/input/osic-pulmonary-fibrosis-progression/test/ID00419637202311204720264/12.dcm',\n",
       " '/kaggle/input/osic-pulmonary-fibrosis-progression/test/ID00419637202311204720264/18.dcm',\n",
       " '/kaggle/input/osic-pulmonary-fibrosis-progression/test/ID00419637202311204720264/9.dcm',\n",
       " '/kaggle/input/osic-pulmonary-fibrosis-progression/test/ID00419637202311204720264/22.dcm',\n",
       " '/kaggle/input/osic-pulmonary-fibrosis-progression/test/ID00419637202311204720264/25.dcm']"
      ]
     },
     "execution_count": 24,
     "metadata": {},
     "output_type": "execute_result"
    }
   ],
   "source": [
    "dicom_files[:5]"
   ]
  },
  {
   "cell_type": "markdown",
   "metadata": {
    "papermill": {
     "duration": 0.04224,
     "end_time": "2021-01-15T12:55:13.430637",
     "exception": false,
     "start_time": "2021-01-15T12:55:13.388397",
     "status": "completed"
    },
    "tags": []
   },
   "source": [
    "In dicom_files list I have collected all the paths for dicom files given in both train and test set. From each of the dcm file, I will extract certain information from meta data attached with dcm file  and store it in csv files."
   ]
  },
  {
   "cell_type": "code",
   "execution_count": 25,
   "metadata": {
    "execution": {
     "iopub.execute_input": "2021-01-15T12:55:13.532706Z",
     "iopub.status.busy": "2021-01-15T12:55:13.531601Z",
     "iopub.status.idle": "2021-01-15T12:55:13.534974Z",
     "shell.execute_reply": "2021-01-15T12:55:13.535605Z"
    },
    "papermill": {
     "duration": 0.062599,
     "end_time": "2021-01-15T12:55:13.535789",
     "exception": false,
     "start_time": "2021-01-15T12:55:13.473190",
     "status": "completed"
    },
    "tags": []
   },
   "outputs": [],
   "source": [
    "def get_metainfo(path):\n",
    "    '''Get information from the .dcm files.\n",
    "    path: complete path to the .dcm file'''\n",
    "\n",
    "    image_data = pydicom.read_file(path)\n",
    "\n",
    "    # Dictionary to store the information from the image\n",
    "    observation_data = {\n",
    "        \"FileNumber\" : path.split('/')[6],\n",
    "        \"Rows\" : image_data.Rows,\n",
    "        \"Columns\" : image_data.Columns,\n",
    "\n",
    "        \"PatientID\" : image_data.PatientID,\n",
    "        \"SliceThickness\" : int(image_data.SliceThickness),\n",
    "        \"KVP\" : int(image_data.KVP),\n",
    "        \"GantryDetectorTilt\" : int(image_data.GantryDetectorTilt),\n",
    "        \"TableHeight\" : int(image_data.TableHeight),\n",
    "        \"RotationDirection\" : image_data.RotationDirection,\n",
    "        \"XRayTubeCurrent\" : int(image_data.XRayTubeCurrent),\n",
    "        \"GeneratorPower\" : int(image_data.GeneratorPower),\n",
    "        \"FocalSpot\" : int(image_data.FocalSpots),\n",
    "        \"ConvolutionKernel\" : image_data.ConvolutionKernel,\n",
    "        \"PatientPosition\" : image_data.PatientPosition,\n",
    "        \"StudyInstanceUID\" : image_data.StudyInstanceUID,\n",
    "        \"SeriesInstanceUID\" : image_data.SeriesInstanceUID,\n",
    "        \"InstanceNumber\" : int(image_data.InstanceNumber),\n",
    "        \"ImagePositionPatient\" : image_data.ImagePositionPatient,\n",
    "        \"ImageOrientationPatient\" : image_data.ImageOrientationPatient,\n",
    "        \"FrameOfReferenceUID\" : image_data.FrameOfReferenceUID,\n",
    "        \"PositionReferenceIndicator\" : image_data.PositionReferenceIndicator,\n",
    "        \"SliceLocation\" : int(image_data.SliceLocation),\n",
    "        \"PixelSpacing\" : str(image_data.PixelSpacing),\n",
    "        \"ImageType\" : str(image_data.ImageType),          \n",
    "        \"PixelPaddingValue\" : image_data.PixelPaddingValue,\n",
    "        \"WindowCenter\" : int(image_data.WindowCenter),\n",
    "        \"WindowWidth\" : int(image_data.WindowWidth),\n",
    "        \"RescaleIntercept\" : int(image_data.RescaleIntercept),\n",
    "        \"RescaleSlope\" : int(image_data.RescaleSlope)       \n",
    "       \n",
    "    }\n",
    "    \n",
    "    return observation_data"
   ]
  },
  {
   "cell_type": "code",
   "execution_count": 26,
   "metadata": {
    "execution": {
     "iopub.execute_input": "2021-01-15T12:55:13.627626Z",
     "iopub.status.busy": "2021-01-15T12:55:13.626924Z",
     "iopub.status.idle": "2021-01-15T13:06:09.072412Z",
     "shell.execute_reply": "2021-01-15T13:06:09.071702Z"
    },
    "papermill": {
     "duration": 655.493836,
     "end_time": "2021-01-15T13:06:09.072544",
     "exception": false,
     "start_time": "2021-01-15T12:55:13.578708",
     "status": "completed"
    },
    "tags": []
   },
   "outputs": [
    {
     "name": "stderr",
     "output_type": "stream",
     "text": [
      "100%|██████████| 34287/34287 [10:55<00:00, 52.31it/s]\n"
     ]
    }
   ],
   "source": [
    "from tqdm import tqdm\n",
    "\n",
    "meta_data = []\n",
    "for path in tqdm(dicom_files):\n",
    "    try:\n",
    "        meta_data.append(get_metainfo(path))\n",
    "    except:\n",
    "        continue"
   ]
  },
  {
   "cell_type": "code",
   "execution_count": 27,
   "metadata": {
    "execution": {
     "iopub.execute_input": "2021-01-15T13:06:12.871663Z",
     "iopub.status.busy": "2021-01-15T13:06:12.870353Z",
     "iopub.status.idle": "2021-01-15T13:06:12.971310Z",
     "shell.execute_reply": "2021-01-15T13:06:12.970579Z"
    },
    "papermill": {
     "duration": 2.016195,
     "end_time": "2021-01-15T13:06:12.971438",
     "exception": false,
     "start_time": "2021-01-15T13:06:10.955243",
     "status": "completed"
    },
    "tags": []
   },
   "outputs": [
    {
     "name": "stdout",
     "output_type": "stream",
     "text": [
      "(5450, 29)\n"
     ]
    },
    {
     "data": {
      "text/html": [
       "<div>\n",
       "<style scoped>\n",
       "    .dataframe tbody tr th:only-of-type {\n",
       "        vertical-align: middle;\n",
       "    }\n",
       "\n",
       "    .dataframe tbody tr th {\n",
       "        vertical-align: top;\n",
       "    }\n",
       "\n",
       "    .dataframe thead th {\n",
       "        text-align: right;\n",
       "    }\n",
       "</style>\n",
       "<table border=\"1\" class=\"dataframe\">\n",
       "  <thead>\n",
       "    <tr style=\"text-align: right;\">\n",
       "      <th></th>\n",
       "      <th>FileNumber</th>\n",
       "      <th>Rows</th>\n",
       "      <th>Columns</th>\n",
       "      <th>PatientID</th>\n",
       "      <th>SliceThickness</th>\n",
       "      <th>KVP</th>\n",
       "      <th>GantryDetectorTilt</th>\n",
       "      <th>TableHeight</th>\n",
       "      <th>RotationDirection</th>\n",
       "      <th>XRayTubeCurrent</th>\n",
       "      <th>...</th>\n",
       "      <th>FrameOfReferenceUID</th>\n",
       "      <th>PositionReferenceIndicator</th>\n",
       "      <th>SliceLocation</th>\n",
       "      <th>PixelSpacing</th>\n",
       "      <th>ImageType</th>\n",
       "      <th>PixelPaddingValue</th>\n",
       "      <th>WindowCenter</th>\n",
       "      <th>WindowWidth</th>\n",
       "      <th>RescaleIntercept</th>\n",
       "      <th>RescaleSlope</th>\n",
       "    </tr>\n",
       "  </thead>\n",
       "  <tbody>\n",
       "    <tr>\n",
       "      <th>0</th>\n",
       "      <td>12.dcm</td>\n",
       "      <td>1100</td>\n",
       "      <td>888</td>\n",
       "      <td>ID00419637202311204720264</td>\n",
       "      <td>1</td>\n",
       "      <td>120</td>\n",
       "      <td>0</td>\n",
       "      <td>197</td>\n",
       "      <td>CW</td>\n",
       "      <td>301</td>\n",
       "      <td>...</td>\n",
       "      <td>2.25.87733149435852076944786005695371983233</td>\n",
       "      <td>SN</td>\n",
       "      <td>-74</td>\n",
       "      <td>[0.820312, 0.820312]</td>\n",
       "      <td>['ORIGINAL', 'PRIMARY', 'AXIAL']</td>\n",
       "      <td>63536</td>\n",
       "      <td>-500</td>\n",
       "      <td>-1500</td>\n",
       "      <td>0</td>\n",
       "      <td>1</td>\n",
       "    </tr>\n",
       "    <tr>\n",
       "      <th>1</th>\n",
       "      <td>18.dcm</td>\n",
       "      <td>1100</td>\n",
       "      <td>888</td>\n",
       "      <td>ID00419637202311204720264</td>\n",
       "      <td>1</td>\n",
       "      <td>120</td>\n",
       "      <td>0</td>\n",
       "      <td>197</td>\n",
       "      <td>CW</td>\n",
       "      <td>288</td>\n",
       "      <td>...</td>\n",
       "      <td>2.25.87733149435852076944786005695371983233</td>\n",
       "      <td>SN</td>\n",
       "      <td>-134</td>\n",
       "      <td>[0.820312, 0.820312]</td>\n",
       "      <td>['ORIGINAL', 'PRIMARY', 'AXIAL']</td>\n",
       "      <td>63536</td>\n",
       "      <td>-500</td>\n",
       "      <td>-1500</td>\n",
       "      <td>0</td>\n",
       "      <td>1</td>\n",
       "    </tr>\n",
       "    <tr>\n",
       "      <th>2</th>\n",
       "      <td>9.dcm</td>\n",
       "      <td>1100</td>\n",
       "      <td>888</td>\n",
       "      <td>ID00419637202311204720264</td>\n",
       "      <td>1</td>\n",
       "      <td>120</td>\n",
       "      <td>0</td>\n",
       "      <td>197</td>\n",
       "      <td>CW</td>\n",
       "      <td>301</td>\n",
       "      <td>...</td>\n",
       "      <td>2.25.87733149435852076944786005695371983233</td>\n",
       "      <td>SN</td>\n",
       "      <td>-44</td>\n",
       "      <td>[0.820312, 0.820312]</td>\n",
       "      <td>['ORIGINAL', 'PRIMARY', 'AXIAL']</td>\n",
       "      <td>63536</td>\n",
       "      <td>-500</td>\n",
       "      <td>-1500</td>\n",
       "      <td>0</td>\n",
       "      <td>1</td>\n",
       "    </tr>\n",
       "    <tr>\n",
       "      <th>3</th>\n",
       "      <td>22.dcm</td>\n",
       "      <td>1100</td>\n",
       "      <td>888</td>\n",
       "      <td>ID00419637202311204720264</td>\n",
       "      <td>1</td>\n",
       "      <td>120</td>\n",
       "      <td>0</td>\n",
       "      <td>197</td>\n",
       "      <td>CW</td>\n",
       "      <td>275</td>\n",
       "      <td>...</td>\n",
       "      <td>2.25.87733149435852076944786005695371983233</td>\n",
       "      <td>SN</td>\n",
       "      <td>-174</td>\n",
       "      <td>[0.820312, 0.820312]</td>\n",
       "      <td>['ORIGINAL', 'PRIMARY', 'AXIAL']</td>\n",
       "      <td>63536</td>\n",
       "      <td>-500</td>\n",
       "      <td>-1500</td>\n",
       "      <td>0</td>\n",
       "      <td>1</td>\n",
       "    </tr>\n",
       "    <tr>\n",
       "      <th>4</th>\n",
       "      <td>25.dcm</td>\n",
       "      <td>1100</td>\n",
       "      <td>888</td>\n",
       "      <td>ID00419637202311204720264</td>\n",
       "      <td>1</td>\n",
       "      <td>120</td>\n",
       "      <td>0</td>\n",
       "      <td>197</td>\n",
       "      <td>CW</td>\n",
       "      <td>301</td>\n",
       "      <td>...</td>\n",
       "      <td>2.25.87733149435852076944786005695371983233</td>\n",
       "      <td>SN</td>\n",
       "      <td>-204</td>\n",
       "      <td>[0.820312, 0.820312]</td>\n",
       "      <td>['ORIGINAL', 'PRIMARY', 'AXIAL']</td>\n",
       "      <td>63536</td>\n",
       "      <td>-500</td>\n",
       "      <td>-1500</td>\n",
       "      <td>0</td>\n",
       "      <td>1</td>\n",
       "    </tr>\n",
       "  </tbody>\n",
       "</table>\n",
       "<p>5 rows × 29 columns</p>\n",
       "</div>"
      ],
      "text/plain": [
       "  FileNumber  Rows  Columns                  PatientID  SliceThickness  KVP  \\\n",
       "0     12.dcm  1100      888  ID00419637202311204720264               1  120   \n",
       "1     18.dcm  1100      888  ID00419637202311204720264               1  120   \n",
       "2      9.dcm  1100      888  ID00419637202311204720264               1  120   \n",
       "3     22.dcm  1100      888  ID00419637202311204720264               1  120   \n",
       "4     25.dcm  1100      888  ID00419637202311204720264               1  120   \n",
       "\n",
       "   GantryDetectorTilt  TableHeight RotationDirection  XRayTubeCurrent  ...  \\\n",
       "0                   0          197                CW              301  ...   \n",
       "1                   0          197                CW              288  ...   \n",
       "2                   0          197                CW              301  ...   \n",
       "3                   0          197                CW              275  ...   \n",
       "4                   0          197                CW              301  ...   \n",
       "\n",
       "                           FrameOfReferenceUID  PositionReferenceIndicator  \\\n",
       "0  2.25.87733149435852076944786005695371983233                          SN   \n",
       "1  2.25.87733149435852076944786005695371983233                          SN   \n",
       "2  2.25.87733149435852076944786005695371983233                          SN   \n",
       "3  2.25.87733149435852076944786005695371983233                          SN   \n",
       "4  2.25.87733149435852076944786005695371983233                          SN   \n",
       "\n",
       "  SliceLocation          PixelSpacing                         ImageType  \\\n",
       "0           -74  [0.820312, 0.820312]  ['ORIGINAL', 'PRIMARY', 'AXIAL']   \n",
       "1          -134  [0.820312, 0.820312]  ['ORIGINAL', 'PRIMARY', 'AXIAL']   \n",
       "2           -44  [0.820312, 0.820312]  ['ORIGINAL', 'PRIMARY', 'AXIAL']   \n",
       "3          -174  [0.820312, 0.820312]  ['ORIGINAL', 'PRIMARY', 'AXIAL']   \n",
       "4          -204  [0.820312, 0.820312]  ['ORIGINAL', 'PRIMARY', 'AXIAL']   \n",
       "\n",
       "  PixelPaddingValue  WindowCenter WindowWidth RescaleIntercept RescaleSlope  \n",
       "0             63536          -500       -1500                0            1  \n",
       "1             63536          -500       -1500                0            1  \n",
       "2             63536          -500       -1500                0            1  \n",
       "3             63536          -500       -1500                0            1  \n",
       "4             63536          -500       -1500                0            1  \n",
       "\n",
       "[5 rows x 29 columns]"
      ]
     },
     "execution_count": 27,
     "metadata": {},
     "output_type": "execute_result"
    }
   ],
   "source": [
    "#storing meta data to csv file\n",
    "\n",
    "meta_info = pd.DataFrame.from_dict(meta_data)\n",
    "print(meta_info.shape)\n",
    "meta_info.head()"
   ]
  },
  {
   "cell_type": "code",
   "execution_count": 28,
   "metadata": {
    "execution": {
     "iopub.execute_input": "2021-01-15T13:06:16.771889Z",
     "iopub.status.busy": "2021-01-15T13:06:16.771218Z",
     "iopub.status.idle": "2021-01-15T13:06:16.887405Z",
     "shell.execute_reply": "2021-01-15T13:06:16.887957Z"
    },
    "papermill": {
     "duration": 2.048674,
     "end_time": "2021-01-15T13:06:16.888112",
     "exception": false,
     "start_time": "2021-01-15T13:06:14.839438",
     "status": "completed"
    },
    "tags": []
   },
   "outputs": [
    {
     "ename": "AttributeError",
     "evalue": "'DataFrame' object has no attribute 'DistanceSourceToDetector'",
     "output_type": "error",
     "traceback": [
      "\u001b[0;31m---------------------------------------------------------------------------\u001b[0m",
      "\u001b[0;31mAttributeError\u001b[0m                            Traceback (most recent call last)",
      "\u001b[0;32m<ipython-input-28-77c3565f448c>\u001b[0m in \u001b[0;36m<module>\u001b[0;34m\u001b[0m\n\u001b[0;32m----> 1\u001b[0;31m \u001b[0mmeta_info\u001b[0m\u001b[0;34m.\u001b[0m\u001b[0mDistanceSourceToDetector\u001b[0m\u001b[0;34m.\u001b[0m\u001b[0munique\u001b[0m\u001b[0;34m(\u001b[0m\u001b[0;34m)\u001b[0m\u001b[0;34m\u001b[0m\u001b[0;34m\u001b[0m\u001b[0m\n\u001b[0m",
      "\u001b[0;32m/opt/conda/lib/python3.7/site-packages/pandas/core/generic.py\u001b[0m in \u001b[0;36m__getattr__\u001b[0;34m(self, name)\u001b[0m\n\u001b[1;32m   5139\u001b[0m             \u001b[0;32mif\u001b[0m \u001b[0mself\u001b[0m\u001b[0;34m.\u001b[0m\u001b[0m_info_axis\u001b[0m\u001b[0;34m.\u001b[0m\u001b[0m_can_hold_identifiers_and_holds_name\u001b[0m\u001b[0;34m(\u001b[0m\u001b[0mname\u001b[0m\u001b[0;34m)\u001b[0m\u001b[0;34m:\u001b[0m\u001b[0;34m\u001b[0m\u001b[0;34m\u001b[0m\u001b[0m\n\u001b[1;32m   5140\u001b[0m                 \u001b[0;32mreturn\u001b[0m \u001b[0mself\u001b[0m\u001b[0;34m[\u001b[0m\u001b[0mname\u001b[0m\u001b[0;34m]\u001b[0m\u001b[0;34m\u001b[0m\u001b[0;34m\u001b[0m\u001b[0m\n\u001b[0;32m-> 5141\u001b[0;31m             \u001b[0;32mreturn\u001b[0m \u001b[0mobject\u001b[0m\u001b[0;34m.\u001b[0m\u001b[0m__getattribute__\u001b[0m\u001b[0;34m(\u001b[0m\u001b[0mself\u001b[0m\u001b[0;34m,\u001b[0m \u001b[0mname\u001b[0m\u001b[0;34m)\u001b[0m\u001b[0;34m\u001b[0m\u001b[0;34m\u001b[0m\u001b[0m\n\u001b[0m\u001b[1;32m   5142\u001b[0m \u001b[0;34m\u001b[0m\u001b[0m\n\u001b[1;32m   5143\u001b[0m     \u001b[0;32mdef\u001b[0m \u001b[0m__setattr__\u001b[0m\u001b[0;34m(\u001b[0m\u001b[0mself\u001b[0m\u001b[0;34m,\u001b[0m \u001b[0mname\u001b[0m\u001b[0;34m:\u001b[0m \u001b[0mstr\u001b[0m\u001b[0;34m,\u001b[0m \u001b[0mvalue\u001b[0m\u001b[0;34m)\u001b[0m \u001b[0;34m->\u001b[0m \u001b[0;32mNone\u001b[0m\u001b[0;34m:\u001b[0m\u001b[0;34m\u001b[0m\u001b[0;34m\u001b[0m\u001b[0m\n",
      "\u001b[0;31mAttributeError\u001b[0m: 'DataFrame' object has no attribute 'DistanceSourceToDetector'"
     ]
    }
   ],
   "source": [
    "meta_info.DistanceSourceToDetector.unique()"
   ]
  },
  {
   "cell_type": "markdown",
   "metadata": {
    "papermill": {
     "duration": 1.89563,
     "end_time": "2021-01-15T13:06:20.651636",
     "exception": false,
     "start_time": "2021-01-15T13:06:18.756006",
     "status": "completed"
    },
    "tags": []
   },
   "source": [
    "## Conversion to Hounsfield Units\n",
    "\n",
    "The Hounsfield scale is a quantitative scale for describing radiodensity in medical CT scan and provides an accurate density for the type of tissue. Plain x-rays which only displays 5 densities (i.e. air/fat/soft tissue/bone/metal), CT displays a huge range of densities ranging from air (black) to bone (white). On the Hounsfield scale, water represented by 0 value, air is represented by a value of −1000 (black on the grey scale) and bone between +700 (cancellous bone) to +3000 (dense bone) (white on the grey scale). As bones are much denser than surrounding soft tissues, they show up very clearly in CT images. Raw pixel values of images gets convereted into Hounsfield Units because the spectral composition of the x-rays depends on the measurement settings like acquisition parameters and tube voltage. By normalizing to values of water and air (water has HU 0 and air -1000) the images of different measurements are becoming comparable. "
   ]
  },
  {
   "cell_type": "code",
   "execution_count": 29,
   "metadata": {
    "execution": {
     "iopub.execute_input": "2021-01-15T13:06:24.776990Z",
     "iopub.status.busy": "2021-01-15T13:06:24.772170Z",
     "iopub.status.idle": "2021-01-15T13:06:24.779070Z",
     "shell.execute_reply": "2021-01-15T13:06:24.779977Z"
    },
    "papermill": {
     "duration": 2.115542,
     "end_time": "2021-01-15T13:06:24.780321",
     "exception": false,
     "start_time": "2021-01-15T13:06:22.664779",
     "status": "completed"
    },
    "tags": []
   },
   "outputs": [],
   "source": [
    "def load_slices(path):\n",
    "    '''\n",
    "    This function is used to sort all the slices of CT scan of each \n",
    "    patient in decreasing order based on InstanceNumber\n",
    "    '''\n",
    "    filenames = os.listdir(path)\n",
    "    slices = [pydicom.dcmread(f'{path}/{file}') for file in filenames]\n",
    "    slices.sort(key = lambda x: int(x.InstanceNumber), reverse=True)\n",
    "    return slices"
   ]
  },
  {
   "cell_type": "code",
   "execution_count": 30,
   "metadata": {
    "execution": {
     "iopub.execute_input": "2021-01-15T13:06:28.685336Z",
     "iopub.status.busy": "2021-01-15T13:06:28.682863Z",
     "iopub.status.idle": "2021-01-15T13:06:28.688942Z",
     "shell.execute_reply": "2021-01-15T13:06:28.688255Z"
    },
    "papermill": {
     "duration": 1.928279,
     "end_time": "2021-01-15T13:06:28.689073",
     "exception": false,
     "start_time": "2021-01-15T13:06:26.760794",
     "status": "completed"
    },
    "tags": []
   },
   "outputs": [],
   "source": [
    "def get_pixels_hu(slices):\n",
    "    \"\"\"\n",
    "    Converts raw images to Hounsfield Units (HU).\n",
    "    \n",
    "    Parameters: scans (Raw images)\n",
    "    \n",
    "    Returns: image (NumPy array)\n",
    "    \"\"\"\n",
    "    \n",
    "    image = np.stack([s.pixel_array for s in slices])\n",
    "    image = image.astype(np.int16)\n",
    "\n",
    "    # Since the scanning equipment is cylindrical in nature and image output is square,\n",
    "    # we set the out-of-scan pixels to 0\n",
    "    image[image == -2000] = 0\n",
    "    \n",
    "    \n",
    "    for slice_number in range(len(slices)):\n",
    "        \n",
    "        intercept = slices[slice_number].RescaleIntercept\n",
    "        slope = slices[slice_number].RescaleSlope\n",
    "        \n",
    "        if slope != 1:\n",
    "            image[slice_number] = slope * image[slice_number].astype(np.float64)\n",
    "            image[slice_number] = image[slice_number].astype(np.int16)\n",
    "            \n",
    "        image[slice_number] += np.int16(intercept)\n",
    "    \n",
    "    return np.array(image, dtype=np.int16)"
   ]
  },
  {
   "cell_type": "markdown",
   "metadata": {
    "papermill": {
     "duration": 1.951577,
     "end_time": "2021-01-15T13:06:32.543776",
     "exception": false,
     "start_time": "2021-01-15T13:06:30.592199",
     "status": "completed"
    },
    "tags": []
   },
   "source": [
    "## Histogram Analysis"
   ]
  },
  {
   "cell_type": "code",
   "execution_count": 31,
   "metadata": {
    "execution": {
     "iopub.execute_input": "2021-01-15T13:06:36.367115Z",
     "iopub.status.busy": "2021-01-15T13:06:36.366055Z",
     "iopub.status.idle": "2021-01-15T13:06:40.216614Z",
     "shell.execute_reply": "2021-01-15T13:06:40.217130Z"
    },
    "papermill": {
     "duration": 5.779354,
     "end_time": "2021-01-15T13:06:40.217293",
     "exception": false,
     "start_time": "2021-01-15T13:06:34.437939",
     "status": "completed"
    },
    "tags": []
   },
   "outputs": [
    {
     "data": {
      "text/plain": [
       "Text(0.5, 1.0, 'HU unit distributions for some scans')"
      ]
     },
     "execution_count": 31,
     "metadata": {},
     "output_type": "execute_result"
    },
    {
     "data": {
      "image/png": "[encoded data removed]",
      "text/plain": [
       "<Figure size 1440x1440 with 10 Axes>"
      ]
     },
     "metadata": {
      "needs_background": "light"
     },
     "output_type": "display_data"
    }
   ],
   "source": [
    "fig,ax = plt.subplots(5,2,figsize=(20,20))\n",
    "example = train.loc[22]['Patient']\n",
    "scans = load_slices(f'{train_path}/{example}')\n",
    "rescaled_images=get_pixels_hu(scans)\n",
    "images = [scan.pixel_array for scan in scans]\n",
    "for i in range(5):\n",
    "    for j in range(1):\n",
    "        sn.distplot(images[i*10].flatten(), ax=ax[i,j])\n",
    "        sn.distplot(rescaled_images[i*10].flatten(), ax=ax[i, j+1])\n",
    "ax[0,0].set_title(\"Raw pixel array distributions for some scans\")\n",
    "ax[0,1].set_title(\"HU unit distributions for some scans\")"
   ]
  },
  {
   "cell_type": "markdown",
   "metadata": {
    "papermill": {
     "duration": 1.925675,
     "end_time": "2021-01-15T13:06:44.020007",
     "exception": false,
     "start_time": "2021-01-15T13:06:42.094332",
     "status": "completed"
    },
    "tags": []
   },
   "source": [
    "## Segmentation\n",
    "Segmentation is most important part of medical image processing as it extracts region of interest. Segmentation defines narrowly what algorithm want to look at, so definitely CNN will perform better on segmented images rather than on whole chest image. Segmentation is done by many ways and clustering is most common among all. Clustering has several techniques such as K-means clustering, hierarchical clustering, divisive clustering, and mean shift clustering. Moreover, due to the irregular and fuzzy borders in most of the medical images, fuzzy set and neutrosophic set theories become important in the segmentation process to handle uncertainty in the medical images. Read more about medical image segmentation [here](https://www.sciencedirect.com/topics/engineering/medical-image-segmentation). After clustering images are morphed using erosion(contraction) and dialation(expansion) to remove unwanted border areas and label different reasons separately. So the steps goes as:\n",
    "\n",
    "1. Normalization of image.\n",
    "2. Clustering for separating lung with everything else.\n",
    "3. Threshold image.\n",
    "4. Morphology - Erosion followed by dialation.\n",
    "5. Label different regions and define regions with different colors.\n",
    "6. Create lung mask.\n",
    "7. Apply mask on original image and get final masked image."
   ]
  },
  {
   "cell_type": "code",
   "execution_count": 32,
   "metadata": {
    "execution": {
     "iopub.execute_input": "2021-01-15T13:06:47.819015Z",
     "iopub.status.busy": "2021-01-15T13:06:47.817962Z",
     "iopub.status.idle": "2021-01-15T13:06:47.848093Z",
     "shell.execute_reply": "2021-01-15T13:06:47.848607Z"
    },
    "papermill": {
     "duration": 1.91274,
     "end_time": "2021-01-15T13:06:47.848765",
     "exception": false,
     "start_time": "2021-01-15T13:06:45.936025",
     "status": "completed"
    },
    "tags": []
   },
   "outputs": [],
   "source": [
    "#Standardize the pixel values\n",
    "def make_lungmask(img, display=False):\n",
    "    row_size= img.shape[0]\n",
    "    col_size = img.shape[1]\n",
    "    mean = np.mean(img)\n",
    "    std = np.std(img)\n",
    "    img = img-mean\n",
    "    img = img/std\n",
    "    \n",
    "    # Find the average pixel value near the lungs\n",
    "    # to renormalize washed out images\n",
    "    middle = img[int(col_size/5):int(col_size/5*4),int(row_size/5):int(row_size/5*4)] \n",
    "    mean = np.mean(middle)  \n",
    "    max = np.max(img)\n",
    "    min = np.min(img)\n",
    "    # To improve threshold finding, I'm moving the \n",
    "    # underflow and overflow on the pixel spectrum\n",
    "    img[img==max]=mean\n",
    "    img[img==min]=mean\n",
    "    \n",
    "    # Using Kmeans to separate foreground (soft tissue / bone) and background (lung/air)\n",
    "    #\n",
    "    kmeans = KMeans(n_clusters=2).fit(np.reshape(middle,[np.prod(middle.shape),1]))\n",
    "    centers = sorted(kmeans.cluster_centers_.flatten())\n",
    "    threshold = np.mean(centers)\n",
    "    \n",
    "    # Threshold the image and the output will be a binary image. Morphology workes either on binary or gray images.\n",
    "    thresh_img = np.where(img<threshold,1.0,0.0)\n",
    "    \n",
    "    # First erode away the finer elements, then dilate to include some of the pixels surrounding the lung.  \n",
    "    # We don't want to accidentally clip the lung.\n",
    "\n",
    "    eroded = morphology.erosion(thresh_img,np.ones([3,3]))\n",
    "    dilation = morphology.dilation(eroded,np.ones([8,8]))\n",
    "\n",
    "    labels = measure.label(dilation) # Different labels are displayed in different colors\n",
    "    label_vals = np.unique(labels)\n",
    "    regions = measure.regionprops(labels)\n",
    "    good_labels = []\n",
    "    for prop in regions:\n",
    "        B = prop.bbox\n",
    "        if B[2]-B[0]<row_size/10*9 and B[3]-B[1]<col_size/10*9 and B[0]>row_size/5 and B[2]<col_size/5*4:\n",
    "            good_labels.append(prop.label)\n",
    "    mask = np.ndarray([row_size,col_size],dtype=np.int8)\n",
    "    mask[:] = 0\n",
    "\n",
    "    #  After just the lungs are left, we do another large dilation\n",
    "    #  in order to fill in and out the lung mask \n",
    "    for N in good_labels:\n",
    "        mask = mask + np.where(labels==N,1,0)\n",
    "    mask = morphology.dilation(mask,np.ones([10,10])) # one last dilation\n",
    "    \n",
    "    if (display):\n",
    "        fig, ax = plt.subplots(3, 2, figsize=[12, 12])\n",
    "        ax[0, 0].set_title(\"Original\")\n",
    "        ax[0, 0].imshow(img, cmap='gray')\n",
    "        ax[0, 0].axis('off')\n",
    "        ax[0, 1].set_title(\"Threshold\")\n",
    "        ax[0, 1].imshow(thresh_img, cmap='gray')\n",
    "        ax[0, 1].axis('off')\n",
    "        ax[1, 0].set_title(\"After Erosion and Dilation\")\n",
    "        ax[1, 0].imshow(dilation, cmap='gray')\n",
    "        ax[1, 0].axis('off')\n",
    "        ax[1, 1].set_title(\"Color Labels\")\n",
    "        ax[1, 1].imshow(labels)\n",
    "        ax[1, 1].axis('off')\n",
    "        ax[2, 0].set_title(\"Final Mask\")\n",
    "        ax[2, 0].imshow(mask, cmap='gray')\n",
    "        ax[2, 0].axis('off')\n",
    "        ax[2, 1].set_title(\"Apply Mask on Original\")\n",
    "        ax[2, 1].imshow(mask*img, cmap='gray')\n",
    "        ax[2, 1].axis('off')\n",
    "        \n",
    "        plt.show()\n",
    "    return mask*img\n"
   ]
  },
  {
   "cell_type": "code",
   "execution_count": 33,
   "metadata": {
    "execution": {
     "iopub.execute_input": "2021-01-15T13:06:51.659419Z",
     "iopub.status.busy": "2021-01-15T13:06:51.658661Z",
     "iopub.status.idle": "2021-01-15T13:06:52.544145Z",
     "shell.execute_reply": "2021-01-15T13:06:52.543424Z"
    },
    "papermill": {
     "duration": 2.775401,
     "end_time": "2021-01-15T13:06:52.544301",
     "exception": false,
     "start_time": "2021-01-15T13:06:49.768900",
     "status": "completed"
    },
    "tags": []
   },
   "outputs": [
    {
     "data": {
      "image/png": "[encoded data removed]",
      "text/plain": [
       "<Figure size 864x864 with 6 Axes>"
      ]
     },
     "metadata": {
      "needs_background": "light"
     },
     "output_type": "display_data"
    }
   ],
   "source": [
    "image = pydicom.dcmread(dicom_files[111]).pixel_array\n",
    "mask = make_lungmask(image,display=True)"
   ]
  },
  {
   "cell_type": "code",
   "execution_count": null,
   "metadata": {
    "papermill": {
     "duration": 1.881541,
     "end_time": "2021-01-15T13:06:56.337470",
     "exception": false,
     "start_time": "2021-01-15T13:06:54.455929",
     "status": "completed"
    },
    "tags": []
   },
   "outputs": [],
   "source": []
  }
 ],
 "metadata": {
  "kernelspec": {
   "display_name": "Python 3",
   "language": "python",
   "name": "python3"
  },
  "language_info": {
   "codemirror_mode": {
    "name": "ipython",
    "version": 3
   },
   "file_extension": ".py",
   "mimetype": "text/x-python",
   "name": "python",
   "nbconvert_exporter": "python",
   "pygments_lexer": "ipython3",
   "version": "3.7.6"
  },
  "papermill": {
   "duration": 725.3423,
   "end_time": "2021-01-15T13:06:58.398989",
   "environment_variables": {},
   "exception": null,
   "input_path": "__notebook__.ipynb",
   "output_path": "__notebook__.ipynb",
   "parameters": {},
   "start_time": "2021-01-15T12:54:53.056689",
   "version": "2.1.0"
  }
 },
 "nbformat": 4,
 "nbformat_minor": 4
}
